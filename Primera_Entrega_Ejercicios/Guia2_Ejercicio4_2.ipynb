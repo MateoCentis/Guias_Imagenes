{
 "cells": [
  {
   "cell_type": "markdown",
   "metadata": {},
   "source": [
    "# Guía 2 - Ejercicio 4.2 "
   ]
  },
  {
   "cell_type": "markdown",
   "metadata": {},
   "source": [
    "## Apartado de funciones e imports"
   ]
  },
  {
   "cell_type": "code",
   "execution_count": 7,
   "metadata": {},
   "outputs": [],
   "source": [
    "import numpy as np\n",
    "import cv2 as cv\n",
    "\n",
    "def calcular_MSE(img1, img2):\n",
    "    error = np.sum((img1.astype(\"float\") - img2.astype(\"float\")) ** 2)\n",
    "    error /= float(img1.shape[0] * img1.shape[1])\n",
    "    return error\n",
    "def evitar_desborde(imagen):\n",
    "\n",
    "    minimo = np.min(imagen)\n",
    "    maximo = np.max(imagen)\n",
    "\n",
    "    if minimo < 0:\n",
    "        imagen = imagen + 255\n",
    "        imagen = imagen / 2\n",
    "    if maximo > 255:\n",
    "        imagen = (imagen - minimo)*(255/(maximo-minimo))\n",
    "    \n",
    "    return imagen\n",
    "def diferencia(imagen1,imagen2):\n",
    "    diferencia_imagenes = imagen1 - imagen2\n",
    "    return evitar_desborde(diferencia_imagenes)\n",
    "def calcular_MSE(img1, img2):\n",
    "    error = np.sum((img1.astype(\"float\") - img2.astype(\"float\")) ** 2)\n",
    "    error /= float(img1.shape[0] * img1.shape[1])\n",
    "    return error\n",
    "\n",
    "def mostrar_video(cap):\n",
    "    while True:\n",
    "        ret, frame = cap.read()\n",
    "        if not ret:\n",
    "            break\n",
    "        cv.imshow(f'Video {cap}', frame)\n",
    "    cv.waitKey(0)\n"
   ]
  },
  {
   "cell_type": "markdown",
   "metadata": {},
   "source": [
    "## Lectura y visualización de los datos "
   ]
  },
  {
   "cell_type": "code",
   "execution_count": 3,
   "metadata": {},
   "outputs": [
    {
     "data": {
      "text/plain": [
       "-1"
      ]
     },
     "execution_count": 3,
     "metadata": {},
     "output_type": "execute_result"
    }
   ],
   "source": [
    "\n",
    "ruta1 = \"Imagenes_Ej/a7v600-SE.gif\"\n",
    "ruta2 = \"Imagenes_Ej/a7v600-X.gif\"\n",
    "\n",
    "ruta1_ruido = \"Imagenes_Ej/a7v600-SE(RImpulsivo).gif\"\n",
    "ruta2_ruido = \"Imagenes_Ej/a7v600-X(RImpulsivo).gif\"\n",
    "\n",
    "chipSE = cv.VideoCapture(ruta1)\n",
    "chipX = cv.VideoCapture(ruta2)\n",
    "\n",
    "chipSE_ruido = cv.VideoCapture(ruta1_ruido)\n",
    "\n",
    "chipX_ruido = cv.VideoCapture(ruta2_ruido)\n",
    "\n",
    "_,frameSE = chipSE.read()\n",
    "_,frameX = chipX.read()\n",
    "frameSE = cv.cvtColor(frameSE, cv.COLOR_BGR2GRAY)\n",
    "frameX = cv.cvtColor(frameX, cv.COLOR_BGR2GRAY)\n",
    "\n",
    "_,frameSE_ruido = chipSE_ruido.read()\n",
    "_,frameX_ruido = chipX_ruido.read()\n",
    "\n",
    "frameSE_ruido = cv.cvtColor(frameSE_ruido, cv.COLOR_BGR2GRAY)\n",
    "frameX_ruido = cv.cvtColor(frameX_ruido, cv.COLOR_BGR2GRAY)\n",
    "\n",
    "cv.imshow(\"FRAME SE\", frameSE)\n",
    "cv.imshow(\"Frame x\", frameX)\n",
    "\n",
    "cv.waitKey(0)"
   ]
  },
  {
   "cell_type": "markdown",
   "metadata": {},
   "source": [
    "## Obtención de las máscaras\n",
    "Se hace la diferencia entre las dos imágenes de las placas para obtener que cambia entre ambas (con y sin ruido)."
   ]
  },
  {
   "cell_type": "code",
   "execution_count": 4,
   "metadata": {},
   "outputs": [],
   "source": [
    "diferencia_imagenes_sin_ruido = diferencia(frameSE,frameX)\n",
    "\n",
    "#Se podría aplicar esta diferencia como una máscara para obtener de forma separada la parte de los chips que quiero\n",
    "cv.imshow(\"Diferencia\", diferencia_imagenes_sin_ruido)\n",
    "\n",
    "diferencia_imagenes_con_ruido = diferencia(frameSE_ruido,frameX_ruido)\n",
    "cv.imshow(\"Diferencia con ruido\", diferencia_imagenes_con_ruido)\n",
    "\n",
    "cv.waitKey(0)\n",
    "\n",
    "cv.destroyAllWindows()\n"
   ]
  },
  {
   "cell_type": "markdown",
   "metadata": {},
   "source": [
    "## Postprocesar y aplicar las máscaras\n",
    "Se obtiene las máscaras y aplicando estas se obtiene como resultado las imagenes de las partes que cambian de cada procesador (con y sin ruido) para posterior comparación y obtención de a que placa corresponden."
   ]
  },
  {
   "cell_type": "code",
   "execution_count": 6,
   "metadata": {},
   "outputs": [
    {
     "data": {
      "text/plain": [
       "-1"
      ]
     },
     "execution_count": 6,
     "metadata": {},
     "output_type": "execute_result"
    }
   ],
   "source": [
    "#Máscara con 1 donde hay diferencia y 0 donde no la hay\n",
    "\n",
    "mascara_sin_ruido = np.where(diferencia_imagenes_sin_ruido > 20, 0,diferencia_imagenes_sin_ruido).astype(np.uint8)\n",
    "mascara_sin_ruido = np.where(diferencia_imagenes_sin_ruido != 0, 255, 0).astype(np.uint8) \n",
    "\n",
    "mascara_con_ruido = np.where(diferencia_imagenes_con_ruido > 20, 0,diferencia_imagenes_con_ruido).astype(np.uint8)\n",
    "mascara_con_ruido = np.where(diferencia_imagenes_con_ruido != 0, 255, 0).astype(np.uint8) \n",
    "\n",
    "cv.imshow(\"Mascara con ruido\", mascara_con_ruido)\n",
    "cv.imshow(\"Mascara sin ruido\", mascara_sin_ruido)\n",
    "\n",
    "cv.waitKey(0)\n",
    "\n",
    "cv.destroyAllWindows()\n",
    "\n",
    "chipSE_resultante_sin_ruido = cv.bitwise_and(frameSE, frameSE, mask=mascara_sin_ruido)\n",
    "chipX_resultante_sin_ruido = cv.bitwise_and(frameX, frameX, mask=mascara_sin_ruido)\n",
    "\n",
    "cv.imshow(\"CHIP SE resultante\",chipSE_resultante_sin_ruido)\n",
    "cv.imshow(\"CHIP X resultante\",chipX_resultante_sin_ruido)\n",
    "\n",
    "cv.waitKey(0)\n",
    "\n",
    "chipSE_resultante_con_ruido = cv.bitwise_and(frameSE_ruido,frameSE_ruido,mask=mascara_con_ruido)\n",
    "chipX_resultante_con_ruido = cv.bitwise_and(frameX_ruido,frameX_ruido,mask=mascara_con_ruido)\n",
    "\n",
    "# ojo el ruido\n",
    "cv.imshow(\"CHIP SE resultante con ruido\",chipSE_resultante_con_ruido)\n",
    "\n",
    "cv.imshow(\"CHIP X resultante con ruido\",chipX_resultante_con_ruido)\n",
    "\n",
    "cv.waitKey(0)"
   ]
  },
  {
   "cell_type": "markdown",
   "metadata": {},
   "source": [
    "## Determinar a que placa corresponde la imagen\n",
    "Se compara las imágenes resultantes de los chips (con solo las partes diferentes) con las imágenes de las placas originales. Se utiliza el error cuadrático medio como métrica de comparación, se corresponde a la placa con el menor error cuadrático medio."
   ]
  },
  {
   "cell_type": "code",
   "execution_count": 11,
   "metadata": {},
   "outputs": [
    {
     "name": "stdout",
     "output_type": "stream",
     "text": [
      "PRIMER CHIP\n",
      "El chip corresponde a la placa SE\n",
      "SEGUNDO CHIP\n",
      "El chip corresponde a la placa X\n",
      "PRIMER CHIP CON RUIDO\n",
      "El chip corresponde a la placa SE\n",
      "SEGUNDO CHIP CON RUIDO\n",
      "El chip corresponde a la placa X\n"
     ]
    }
   ],
   "source": [
    "# Calcular MSE entre la máscara y las imágenes originales\n",
    "MSE_SE_sin_ruido = round(calcular_MSE(frameSE, chipSE_resultante_sin_ruido),2)\n",
    "MSE_SX_sin_ruido = round(calcular_MSE(frameX, chipSE_resultante_sin_ruido),2)\n",
    "\n",
    "print(\"PRIMER CHIP\")\n",
    "if MSE_SE_sin_ruido < MSE_SX_sin_ruido:\n",
    "    print(f\"El chip corresponde a la placa SE\")\n",
    "else: \n",
    "    print(f\"El chip corresponde a la placa X\")\n",
    "\n",
    "MSE_X_sin_ruido = round(calcular_MSE(frameX, chipX_resultante_sin_ruido),2)\n",
    "MSE_XSE_sin_ruido = round(calcular_MSE(frameSE, chipX_resultante_sin_ruido),2)\n",
    "\n",
    "\n",
    "print(\"SEGUNDO CHIP\")\n",
    "if MSE_X_sin_ruido < MSE_XSE_sin_ruido:\n",
    "    print(f\"El chip corresponde a la placa X\")\n",
    "else:\n",
    "    print(f\"El chip corresponde a la placa SE\")\n",
    "\n",
    "\n",
    "MSE_SE_con_ruido = calcular_MSE(frameSE_ruido, chipSE_resultante_con_ruido)\n",
    "MSE_SX_con_ruido = calcular_MSE(frameX_ruido, chipSE_resultante_con_ruido)\n",
    "\n",
    "print(\"PRIMER CHIP CON RUIDO\")\n",
    "\n",
    "if MSE_SE_con_ruido < MSE_SX_con_ruido:\n",
    "    print(f\"El chip corresponde a la placa SE\")\n",
    "else:\n",
    "    print(f\"El chip corresponde a la placa X\")\n",
    "\n",
    "MSE_X_con_ruido = calcular_MSE(frameX_ruido, chipX_resultante_con_ruido)\n",
    "MSE_XSE_con_ruido = calcular_MSE(frameSE_ruido, chipX_resultante_con_ruido)\n",
    "\n",
    "print(\"SEGUNDO CHIP CON RUIDO\")\n",
    "\n",
    "if MSE_X_con_ruido < MSE_XSE_con_ruido:\n",
    "    print(f\"El chip corresponde a la placa X\")\n",
    "else:\n",
    "    print(f\"El chip corresponde a la placa SE\")"
   ]
  }
 ],
 "metadata": {
  "kernelspec": {
   "display_name": "Python 3",
   "language": "python",
   "name": "python3"
  },
  "language_info": {
   "codemirror_mode": {
    "name": "ipython",
    "version": 3
   },
   "file_extension": ".py",
   "mimetype": "text/x-python",
   "name": "python",
   "nbconvert_exporter": "python",
   "pygments_lexer": "ipython3",
   "version": "3.12.2"
  }
 },
 "nbformat": 4,
 "nbformat_minor": 2
}
