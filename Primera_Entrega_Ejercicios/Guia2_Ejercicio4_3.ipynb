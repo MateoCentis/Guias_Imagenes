{
 "cells": [
  {
   "cell_type": "markdown",
   "metadata": {},
   "source": [
    "# Guía 2 - Ejercicio 4 "
   ]
  },
  {
   "cell_type": "markdown",
   "metadata": {},
   "source": [
    "## Imports y definición de funciones"
   ]
  },
  {
   "cell_type": "code",
   "execution_count": 16,
   "metadata": {},
   "outputs": [],
   "source": [
    "import cv2 as cv\n",
    "import numpy as np\n",
    "import matplotlib.pyplot as plt\n",
    "from utils import diferencia\n",
    "\n",
    "def contar_hasta_cero(arreglo): #Función que retorno cuantos elementos hasta el proximo cero hay en un arreglo\n",
    "    elementos_hasta_cero = 0\n",
    "\n",
    "    for elemento in arreglo:\n",
    "        if elemento != 0:\n",
    "            elementos_hasta_cero += 1\n",
    "        else:\n",
    "            break\n",
    "\n",
    "    return elementos_hasta_cero\n",
    "def bounding_box(imagen):\n",
    "    indices_objeto = np.where(imagen == 255)\n",
    "\n",
    "    # Encuentra los límites superior, inferior, izquierdo y derecho del objeto\n",
    "    top = np.min(indices_objeto[0])\n",
    "    bottom = np.max(indices_objeto[0])\n",
    "    left = np.min(indices_objeto[1])\n",
    "    right = np.max(indices_objeto[1])\n",
    "    # esquina_superior_izquierda = [left,top]\n",
    "    # esquina_inferior_derecha = [right,bottom]\n",
    "\n",
    "    return [left,right,top,bottom]#Izquierda, derecha, arriba, abajo"
   ]
  },
  {
   "cell_type": "markdown",
   "metadata": {},
   "source": [
    "## Lectura de los datos"
   ]
  },
  {
   "cell_type": "code",
   "execution_count": 17,
   "metadata": {},
   "outputs": [],
   "source": [
    "\n",
    "ruta1 = \"Imagenes_Ej/blister_completo.jpg\"\n",
    "ruta2 = \"Imagenes_Ej/blister_incompleto.jpg\"\n",
    "\n",
    "blister_completo = cv.imread(ruta1, cv.IMREAD_GRAYSCALE)\n",
    "blister_completo = blister_completo[:,:291] #por que hay un pixel de diferencia en tamaño (?)\n",
    "blister_incompleto = cv.imread(ruta2, cv.IMREAD_GRAYSCALE)\n",
    "\n",
    "cv.imshow(\"Completo\", blister_completo)\n",
    "cv.imshow(\"Incompleto\", blister_incompleto)\n",
    "cv.waitKey(0)\n",
    "cv.destroyAllWindows()"
   ]
  },
  {
   "cell_type": "markdown",
   "metadata": {},
   "source": [
    "## Umbralización\n",
    "Se le aplica a las imágenes un pre procesado para facilitar luego la operación de diferencia. Todos los valores mayores al umbral (100) se ponen en blanco y todos los menores en negro."
   ]
  },
  {
   "cell_type": "code",
   "execution_count": 18,
   "metadata": {},
   "outputs": [],
   "source": [
    "# Con un umbral de transición poner de forma tal que las pildoras queden en 255 y lo otro en 0\n",
    "umbral = 100\n",
    "blister_completo = np.where(blister_completo < umbral, 0, 255).astype(np.uint8)\n",
    "# blister_completo = blister_completo[35:270,25:120]\n",
    "blister_incompleto = np.where(blister_incompleto < umbral, 0, 255).astype(np.uint8)\n",
    "# blister_incompleto = blister_incompleto[35:270,25:120] \n",
    "cv.imshow(\"Completo\", blister_completo)\n",
    "cv.imshow(\"Incompleto\", blister_incompleto)\n",
    "cv.waitKey(0)\n",
    "cv.destroyAllWindows()"
   ]
  },
  {
   "cell_type": "markdown",
   "metadata": {},
   "source": [
    "## Diferencia\n",
    "Una vez pre procesada la imagen se aplica a realizar la operación de diferencia entre el blister lleno y el blister con faltante de pildoras para obtener las pildoras faltantes"
   ]
  },
  {
   "cell_type": "code",
   "execution_count": 19,
   "metadata": {},
   "outputs": [
    {
     "data": {
      "image/png": "[encoded data removed]",
      "text/plain": [
       "<Figure size 640x480 with 1 Axes>"
      ]
     },
     "metadata": {},
     "output_type": "display_data"
    }
   ],
   "source": [
    "# Se puede usar la función find countours?\n",
    "diferencia = diferencia(blister_completo, blister_incompleto)\n",
    "#Con la diferencia contra la imagen llena se obtienen las pildoras que faltan \n",
    "\n",
    "#Gráficar con plot 35-270 , 25-120\n",
    "plt.figure()\n",
    "plt.imshow(diferencia,cmap='gray')\n",
    "plt.xlabel(\"x\")\n",
    "plt.ylabel(\"y\")\n",
    "plt.grid(True,'minor')\n"
   ]
  },
  {
   "cell_type": "markdown",
   "metadata": {},
   "source": [
    "## Bounding box\n",
    "Se encuadra la pildora restante con un rectángulo"
   ]
  },
  {
   "cell_type": "code",
   "execution_count": 20,
   "metadata": {},
   "outputs": [
    {
     "name": "stdout",
     "output_type": "stream",
     "text": [
      "La posición de la pildora es ([153.0, 100.0])\n"
     ]
    },
    {
     "data": {
      "image/png": "[encoded data removed]",
      "text/plain": [
       "<Figure size 640x480 with 1 Axes>"
      ]
     },
     "metadata": {},
     "output_type": "display_data"
    }
   ],
   "source": [
    "bordes = bounding_box(diferencia)\n",
    "ancho = bordes[1] - bordes[0]\n",
    "alto = bordes[3] - bordes[2] \n",
    "plt.figure()\n",
    "plt.imshow(diferencia,cmap='gray')\n",
    "plt.xlabel(\"x\")\n",
    "plt.ylabel(\"y\")\n",
    "plt.grid(True,'minor')\n",
    "rectangulo = plt.Rectangle((bordes[0],bordes[2]),ancho,alto,linewidth=1,edgecolor='red',facecolor='none')\n",
    "plt.gca().add_patch(rectangulo)\n",
    "x = bordes[0] + ancho/2\n",
    "y = bordes[2] + alto/2\n",
    "posicion = [x,y]\n",
    "print(f\"La posición de la pildora es ({posicion})\")\n",
    "plt.show()"
   ]
  },
  {
   "cell_type": "code",
   "execution_count": null,
   "metadata": {},
   "outputs": [],
   "source": []
  }
 ],
 "metadata": {
  "kernelspec": {
   "display_name": "Python 3",
   "language": "python",
   "name": "python3"
  },
  "language_info": {
   "codemirror_mode": {
    "name": "ipython",
    "version": 3
   },
   "file_extension": ".py",
   "mimetype": "text/x-python",
   "name": "python",
   "nbconvert_exporter": "python",
   "pygments_lexer": "ipython3",
   "version": "3.12.2"
  }
 },
 "nbformat": 4,
 "nbformat_minor": 2
}
